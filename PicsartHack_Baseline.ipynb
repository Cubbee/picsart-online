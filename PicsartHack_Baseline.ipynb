{
 "cells": [
  {
   "cell_type": "markdown",
   "metadata": {},
   "source": [
    "# PicsArt AI Hackathon Online\n",
    "\n",
    "## Детектирование фона на изображениях"
   ]
  },
  {
   "cell_type": "code",
   "execution_count": null,
   "metadata": {},
   "outputs": [],
   "source": [
    "%pylab inline\n",
    "\n",
    "import os\n",
    "import tqdm\n",
    "\n",
    "import pandas as pd\n",
    "from PIL import Image\n",
    "from skimage.morphology import remove_small_objects, remove_small_holes\n",
    "\n",
    "import torch\n",
    "from torch.utils.data import Dataset, DataLoader\n",
    "from torchvision import transforms\n",
    "from torchvision.models import vgg13\n",
    "\n",
    "from utils import rle_encode"
   ]
  },
  {
   "cell_type": "code",
   "execution_count": null,
   "metadata": {},
   "outputs": [],
   "source": [
    "prefix = ''\n",
    "train_im_dir = prefix + 'data/train/'\n",
    "train_mask_dir = prefix + 'data/train_mask/'\n",
    "test_im_dir = prefix + 'data/test/'"
   ]
  },
  {
   "cell_type": "markdown",
   "metadata": {},
   "source": [
    "Загрузим список фотографий из обучающей выборки."
   ]
  },
  {
   "cell_type": "code",
   "execution_count": null,
   "metadata": {},
   "outputs": [],
   "source": [
    "path_images = list(map(\n",
    "    lambda x: x.split('.')[0],\n",
    "    filter(lambda x: x.endswith('.jpg'), os.listdir(train_im_dir))))"
   ]
  },
  {
   "cell_type": "markdown",
   "metadata": {},
   "source": [
    "Разделим на обучающую и валидационную выборки. Для ускорения оставим только 24 изображения для валидации."
   ]
  },
  {
   "cell_type": "code",
   "execution_count": null,
   "metadata": {},
   "outputs": [],
   "source": [
    "train_images, val_images = path_images[:-24], path_images[-24:]"
   ]
  },
  {
   "cell_type": "markdown",
   "metadata": {},
   "source": [
    "Опишем датасет. Предусмотрим загрузку масок из другой директории с теми же названиями файлов."
   ]
  },
  {
   "cell_type": "code",
   "execution_count": null,
   "metadata": {},
   "outputs": [],
   "source": [
    "class FaceDataset(Dataset):\n",
    "    def __init__(self, images_dir, images_name, target_dir=None,\n",
    "                 transforms=None):\n",
    "        \n",
    "        self.images_dir = images_dir\n",
    "        self.target_dir = target_dir\n",
    "        self.images_name = images_name\n",
    "        self.transforms = transforms\n",
    "                           \n",
    "        print('{} images'.format(len(self.images_name)))\n",
    "\n",
    "    def __len__(self):\n",
    "        return len(self.images_name)\n",
    "               \n",
    "    def __getitem__(self, idx):\n",
    "        img_filename = os.path.join(\n",
    "            self.images_dir, self.images_name[idx] + '.jpg')\n",
    "        img = Image.open(img_filename)\n",
    "        \n",
    "        if self.target_dir:\n",
    "            mask_filename = os.path.join(\n",
    "                self.target_dir, self.images_name[idx] + '.png')\n",
    "            mask = Image.open(mask_filename)\n",
    "        else:\n",
    "            mask = []\n",
    "        \n",
    "        if self.transforms:\n",
    "            img = self.transforms(img)\n",
    "            if mask:\n",
    "                mask = transforms.ToTensor()(mask)\n",
    "\n",
    "        return {'img': img, 'mask': mask}"
   ]
  },
  {
   "cell_type": "markdown",
   "metadata": {},
   "source": [
    "В качестве трансформации возьмём только нормализацию с параметрами от ImageNet, так как будем использовать предобученный кодировщик."
   ]
  },
  {
   "cell_type": "code",
   "execution_count": null,
   "metadata": {},
   "outputs": [],
   "source": [
    "image_transforms = transforms.Compose([\n",
    "    transforms.ToTensor(),\n",
    "    transforms.Normalize(mean=[0.485, 0.456, 0.406],\n",
    "                         std=[0.229, 0.224, 0.225])])"
   ]
  },
  {
   "cell_type": "code",
   "execution_count": null,
   "metadata": {},
   "outputs": [],
   "source": [
    "train_dataset = FaceDataset(\n",
    "    images_dir=train_im_dir,\n",
    "    images_name=train_images,\n",
    "    target_dir=train_mask_dir,\n",
    "    transforms=image_transforms)\n",
    "\n",
    "val_dataset = FaceDataset(\n",
    "    images_dir=train_im_dir,\n",
    "    images_name=val_images,\n",
    "    target_dir=train_mask_dir,\n",
    "    transforms=image_transforms)"
   ]
  },
  {
   "cell_type": "markdown",
   "metadata": {},
   "source": [
    "Генераторы для обучения и валидации сети."
   ]
  },
  {
   "cell_type": "code",
   "execution_count": null,
   "metadata": {},
   "outputs": [],
   "source": [
    "train_data_loader = DataLoader(train_dataset, batch_size=4, shuffle=True)\n",
    "val_data_loader = DataLoader(val_dataset, batch_size=4)"
   ]
  },
  {
   "cell_type": "markdown",
   "metadata": {},
   "source": [
    "Для решения задачи сегментации будем использовать UNet. Энкодер сети сделаем из первых блоков предобученного VGG13."
   ]
  },
  {
   "cell_type": "code",
   "execution_count": null,
   "metadata": {},
   "outputs": [],
   "source": [
    "class VGG13Encoder(torch.nn.Module):\n",
    "    def __init__(self, num_blocks, pretrained=True):\n",
    "        super().__init__()\n",
    "        self.num_blocks = num_blocks\n",
    "        self.blocks = torch.nn.ModuleList()\n",
    "        feature_extractor = vgg13(pretrained=pretrained).features\n",
    "        for i in range(self.num_blocks):\n",
    "            self.blocks.append(\n",
    "                torch.nn.Sequential(*[feature_extractor[j]\n",
    "                                      for j in range(i * 5, i * 5 + 4)]))\n",
    "\n",
    "    def forward(self, x):\n",
    "        activations = []\n",
    "        for i in range(self.num_blocks):\n",
    "            x = self.blocks[i](x)\n",
    "            activations.append(x)\n",
    "            if i != self.num_blocks - 1:\n",
    "                x = torch.functional.F.max_pool2d(x, kernel_size=2, stride=2)\n",
    "        return activations"
   ]
  },
  {
   "cell_type": "markdown",
   "metadata": {},
   "source": [
    "Опишем блок декодера."
   ]
  },
  {
   "cell_type": "code",
   "execution_count": null,
   "metadata": {},
   "outputs": [],
   "source": [
    "class DecoderBlock(torch.nn.Module):\n",
    "    def __init__(self, out_channels):\n",
    "        super().__init__()\n",
    "\n",
    "        self.upconv = torch.nn.Conv2d(\n",
    "            in_channels=out_channels * 2, out_channels=out_channels,\n",
    "            kernel_size=3, padding=1, dilation=1)\n",
    "        self.conv1 = torch.nn.Conv2d(\n",
    "            in_channels=out_channels * 2, out_channels=out_channels,\n",
    "            kernel_size=3, padding=1, dilation=1)\n",
    "        self.conv2 = torch.nn.Conv2d(\n",
    "            in_channels=out_channels, out_channels=out_channels,\n",
    "            kernel_size=3, padding=1, dilation=1)\n",
    "        self.relu = torch.nn.ReLU(inplace=True)\n",
    "\n",
    "    def forward(self, down, left):\n",
    "        x = torch.nn.functional.interpolate(down, scale_factor=2)\n",
    "        x = self.upconv(x)\n",
    "        x = self.relu(self.conv1(torch.cat([left, x], 1)))\n",
    "        x = self.relu(self.conv2(x))\n",
    "        return x"
   ]
  },
  {
   "cell_type": "markdown",
   "metadata": {},
   "source": [
    "Сформируем весь декодер из блоков."
   ]
  },
  {
   "cell_type": "code",
   "execution_count": null,
   "metadata": {},
   "outputs": [],
   "source": [
    "class Decoder(torch.nn.Module):\n",
    "    def __init__(self, num_filters, num_blocks):\n",
    "        super().__init__()\n",
    "        self.blocks = torch.nn.ModuleList()\n",
    "        for i in range(num_blocks):\n",
    "            self.blocks.append(DecoderBlock(num_filters * 2**(num_blocks-i-1)))\n",
    "\n",
    "    def forward(self, activations):\n",
    "        up = activations[-1]\n",
    "        for i, left in enumerate(activations[-2::-1]):\n",
    "            up = self.blocks[i](up, left)\n",
    "        return up"
   ]
  },
  {
   "cell_type": "markdown",
   "metadata": {},
   "source": [
    "А теперь и всю сеть целиком."
   ]
  },
  {
   "cell_type": "code",
   "execution_count": null,
   "metadata": {},
   "outputs": [],
   "source": [
    "def init_weights(m, nonlinearity_type):\n",
    "    if isinstance(m, torch.nn.Conv2d) or isinstance(m, torch.nn.Linear):\n",
    "        torch.nn.init.xavier_uniform_(m.weight, gain=torch.nn.init.calculate_gain(nonlinearity_type))\n",
    "\n",
    "class UNet(torch.nn.Module):\n",
    "    def __init__(self, num_classes=1, num_filters=64, num_blocks=4):\n",
    "        super().__init__()\n",
    "        self.encoder = VGG13Encoder(num_blocks=num_blocks)\n",
    "        self.decoder = Decoder(num_filters=64, num_blocks=num_blocks - 1)\n",
    "        self.final = torch.nn.Conv2d(\n",
    "            in_channels=num_filters, out_channels=num_classes, kernel_size=1)\n",
    "        \n",
    "        self.decoder.apply(lambda m: init_weights(m, 'relu'))\n",
    "        self.final.apply(lambda m: init_weights(m, 'relu'))\n",
    "\n",
    "    def forward(self, x):\n",
    "        acts = self.encoder(x)\n",
    "        x = self.decoder(acts)\n",
    "        x = self.final(x)\n",
    "        return x"
   ]
  },
  {
   "cell_type": "code",
   "execution_count": null,
   "metadata": {},
   "outputs": [],
   "source": [
    "unet = UNet()\n",
    "unet"
   ]
  },
  {
   "cell_type": "markdown",
   "metadata": {},
   "source": [
    "Проверим размерность выхода."
   ]
  },
  {
   "cell_type": "code",
   "execution_count": null,
   "metadata": {},
   "outputs": [],
   "source": [
    "for batch in train_data_loader:\n",
    "    break\n",
    "\n",
    "out = unet.forward(batch['img'])\n",
    "print(batch['img'].shape)\n",
    "print(out.shape)"
   ]
  },
  {
   "cell_type": "markdown",
   "metadata": {},
   "source": [
    "Обучим сеть."
   ]
  },
  {
   "cell_type": "code",
   "execution_count": null,
   "metadata": {},
   "outputs": [],
   "source": [
    "criterion = torch.nn.BCEWithLogitsLoss()\n",
    "val_criterion = torch.nn.BCEWithLogitsLoss()\n",
    "optimizer = torch.optim.Adam(unet.parameters())"
   ]
  },
  {
   "cell_type": "code",
   "execution_count": null,
   "metadata": {},
   "outputs": [],
   "source": [
    "device = 'cpu'\n",
    "if torch.cuda.is_available():\n",
    "    device = 'cuda'\n",
    "\n",
    "unet = unet.to(device)"
   ]
  },
  {
   "cell_type": "code",
   "execution_count": null,
   "metadata": {},
   "outputs": [],
   "source": [
    "num_epoch = 1\n",
    "steps = 0\n",
    "\n",
    "for epoch in range(num_epoch):\n",
    "    for i, batch in enumerate(train_data_loader):\n",
    "        optimizer.zero_grad()\n",
    "        batch = {k: v.to(device) for k, v in batch.items()}\n",
    "        output = unet(batch['img'])\n",
    "        loss = criterion(output, batch['mask'])\n",
    "        loss.backward()\n",
    "        optimizer.step()\n",
    "        steps += 1\n",
    "        \n",
    "        if steps % 10 == 0:\n",
    "            val_loss = 0\n",
    "            for i, batch in enumerate(val_data_loader):\n",
    "                batch = {k: v.to(device) for k, v in batch.items()}\n",
    "                output = unet(batch['img'])\n",
    "                val_loss += float(\n",
    "                    val_criterion(output, batch['mask']).detach())\n",
    "            val_loss = val_loss / len(val_dataset)\n",
    "        \n",
    "            print('steps: {},\\ttrain loss: {},\\tval loss: {}'.format(\n",
    "                steps, round(float(loss.detach()), 3), round(val_loss, 3)))"
   ]
  },
  {
   "cell_type": "markdown",
   "metadata": {},
   "source": [
    "Подготовим итератор по тестовым изображениям."
   ]
  },
  {
   "cell_type": "code",
   "execution_count": null,
   "metadata": {},
   "outputs": [],
   "source": [
    "path_images = list(map(\n",
    "    lambda x: x.split('.')[0],\n",
    "    filter(lambda x: x.endswith('.jpg'), os.listdir(test_im_dir))))"
   ]
  },
  {
   "cell_type": "code",
   "execution_count": null,
   "metadata": {},
   "outputs": [],
   "source": [
    "test_data_loader = DataLoader(\n",
    "    FaceDataset(test_im_dir, path_images, transforms=image_transforms), batch_size=4)"
   ]
  },
  {
   "cell_type": "markdown",
   "metadata": {},
   "source": [
    "Сделаем предсказания. К выходу сети применим сигмоиду (исходно выходы без нелинейности), сделаем отсечение по порогу и небольшой постобработку по удалению отдельных пикселей маски и закрашиванию дыр. Для кодирования масок в виде массива в формат Run-length encoding используем rle_encode."
   ]
  },
  {
   "cell_type": "code",
   "execution_count": null,
   "metadata": {},
   "outputs": [],
   "source": [
    "threshold = 0.25\n",
    "predictions = []\n",
    "\n",
    "for batch in tqdm.tqdm_notebook(test_data_loader):\n",
    "    batch['img'] = batch['img'].to(device)\n",
    "    output = torch.sigmoid(unet.forward(batch['img']))\n",
    "    for i in range(output.shape[0]):\n",
    "        img = output[i].detach().to('cpu').numpy()\n",
    "        post_img = remove_small_holes(remove_small_objects(img > threshold))\n",
    "        rle = rle_encode(post_img)\n",
    "        predictions.append(rle)"
   ]
  },
  {
   "cell_type": "code",
   "execution_count": null,
   "metadata": {},
   "outputs": [],
   "source": [
    "df = pd.DataFrame.from_dict({'image': path_images, 'rle_mask': predictions})\n",
    "df.to_csv('baseline_submission.csv', index=False)"
   ]
  }
 ],
 "metadata": {
  "kernelspec": {
   "display_name": "Python 3",
   "language": "python",
   "name": "python3"
  },
  "language_info": {
   "codemirror_mode": {
    "name": "ipython",
    "version": 3
   },
   "file_extension": ".py",
   "mimetype": "text/x-python",
   "name": "python",
   "nbconvert_exporter": "python",
   "pygments_lexer": "ipython3",
   "version": "3.6.5"
  }
 },
 "nbformat": 4,
 "nbformat_minor": 2
}
